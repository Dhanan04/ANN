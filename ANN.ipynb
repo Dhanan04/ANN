{
 "cells": [
  {
   "cell_type": "markdown",
   "id": "c78a53c6-5be0-4971-82d0-1053ad6c48d0",
   "metadata": {
    "tags": []
   },
   "source": [
    "## implementation of ANN using keras:"
   ]
  },
  {
   "cell_type": "code",
   "execution_count": 84,
   "id": "42e9e5c4-bf5c-470f-b7cd-8783132ea92a",
   "metadata": {},
   "outputs": [
    {
     "name": "stdout",
     "output_type": "stream",
     "text": [
      "Requirement already satisfied: tensorflow in /opt/conda/lib/python3.10/site-packages (2.14.0)\n",
      "Requirement already satisfied: libclang>=13.0.0 in /opt/conda/lib/python3.10/site-packages (from tensorflow) (16.0.6)\n",
      "Requirement already satisfied: tensorboard<2.15,>=2.14 in /opt/conda/lib/python3.10/site-packages (from tensorflow) (2.14.0)\n",
      "Requirement already satisfied: tensorflow-io-gcs-filesystem>=0.23.1 in /opt/conda/lib/python3.10/site-packages (from tensorflow) (0.34.0)\n",
      "Requirement already satisfied: absl-py>=1.0.0 in /opt/conda/lib/python3.10/site-packages (from tensorflow) (2.0.0)\n",
      "Requirement already satisfied: astunparse>=1.6.0 in /opt/conda/lib/python3.10/site-packages (from tensorflow) (1.6.3)\n",
      "Requirement already satisfied: grpcio<2.0,>=1.24.3 in /opt/conda/lib/python3.10/site-packages (from tensorflow) (1.58.0)\n",
      "Requirement already satisfied: six>=1.12.0 in /opt/conda/lib/python3.10/site-packages (from tensorflow) (1.16.0)\n",
      "Requirement already satisfied: wrapt<1.15,>=1.11.0 in /opt/conda/lib/python3.10/site-packages (from tensorflow) (1.14.1)\n",
      "Requirement already satisfied: numpy>=1.23.5 in /opt/conda/lib/python3.10/site-packages (from tensorflow) (1.23.5)\n",
      "Requirement already satisfied: tensorflow-estimator<2.15,>=2.14.0 in /opt/conda/lib/python3.10/site-packages (from tensorflow) (2.14.0)\n",
      "Requirement already satisfied: opt-einsum>=2.3.2 in /opt/conda/lib/python3.10/site-packages (from tensorflow) (3.3.0)\n",
      "Requirement already satisfied: flatbuffers>=23.5.26 in /opt/conda/lib/python3.10/site-packages (from tensorflow) (23.5.26)\n",
      "Requirement already satisfied: packaging in /opt/conda/lib/python3.10/site-packages (from tensorflow) (22.0)\n",
      "Requirement already satisfied: gast!=0.5.0,!=0.5.1,!=0.5.2,>=0.2.1 in /opt/conda/lib/python3.10/site-packages (from tensorflow) (0.5.4)\n",
      "Requirement already satisfied: setuptools in /opt/conda/lib/python3.10/site-packages (from tensorflow) (65.5.1)\n",
      "Requirement already satisfied: typing-extensions>=3.6.6 in /opt/conda/lib/python3.10/site-packages (from tensorflow) (4.4.0)\n",
      "Requirement already satisfied: h5py>=2.9.0 in /opt/conda/lib/python3.10/site-packages (from tensorflow) (3.7.0)\n",
      "Requirement already satisfied: ml-dtypes==0.2.0 in /opt/conda/lib/python3.10/site-packages (from tensorflow) (0.2.0)\n",
      "Requirement already satisfied: google-pasta>=0.1.1 in /opt/conda/lib/python3.10/site-packages (from tensorflow) (0.2.0)\n",
      "Requirement already satisfied: termcolor>=1.1.0 in /opt/conda/lib/python3.10/site-packages (from tensorflow) (2.3.0)\n",
      "Requirement already satisfied: protobuf!=4.21.0,!=4.21.1,!=4.21.2,!=4.21.3,!=4.21.4,!=4.21.5,<5.0.0dev,>=3.20.3 in /opt/conda/lib/python3.10/site-packages (from tensorflow) (4.21.11)\n",
      "Requirement already satisfied: keras<2.15,>=2.14.0 in /opt/conda/lib/python3.10/site-packages (from tensorflow) (2.14.0)\n",
      "Requirement already satisfied: wheel<1.0,>=0.23.0 in /opt/conda/lib/python3.10/site-packages (from astunparse>=1.6.0->tensorflow) (0.38.4)\n",
      "Requirement already satisfied: google-auth-oauthlib<1.1,>=0.5 in /opt/conda/lib/python3.10/site-packages (from tensorboard<2.15,>=2.14->tensorflow) (1.0.0)\n",
      "Requirement already satisfied: markdown>=2.6.8 in /opt/conda/lib/python3.10/site-packages (from tensorboard<2.15,>=2.14->tensorflow) (3.4.4)\n",
      "Requirement already satisfied: tensorboard-data-server<0.8.0,>=0.7.0 in /opt/conda/lib/python3.10/site-packages (from tensorboard<2.15,>=2.14->tensorflow) (0.7.1)\n",
      "Requirement already satisfied: werkzeug>=1.0.1 in /opt/conda/lib/python3.10/site-packages (from tensorboard<2.15,>=2.14->tensorflow) (2.3.7)\n",
      "Requirement already satisfied: google-auth<3,>=1.6.3 in /opt/conda/lib/python3.10/site-packages (from tensorboard<2.15,>=2.14->tensorflow) (2.23.1)\n",
      "Requirement already satisfied: requests<3,>=2.21.0 in /opt/conda/lib/python3.10/site-packages (from tensorboard<2.15,>=2.14->tensorflow) (2.31.0)\n",
      "Requirement already satisfied: pyasn1-modules>=0.2.1 in /opt/conda/lib/python3.10/site-packages (from google-auth<3,>=1.6.3->tensorboard<2.15,>=2.14->tensorflow) (0.3.0)\n",
      "Requirement already satisfied: rsa<5,>=3.1.4 in /opt/conda/lib/python3.10/site-packages (from google-auth<3,>=1.6.3->tensorboard<2.15,>=2.14->tensorflow) (4.9)\n",
      "Requirement already satisfied: urllib3>=2.0.5 in /opt/conda/lib/python3.10/site-packages (from google-auth<3,>=1.6.3->tensorboard<2.15,>=2.14->tensorflow) (2.0.5)\n",
      "Requirement already satisfied: cachetools<6.0,>=2.0.0 in /opt/conda/lib/python3.10/site-packages (from google-auth<3,>=1.6.3->tensorboard<2.15,>=2.14->tensorflow) (5.3.1)\n",
      "Requirement already satisfied: requests-oauthlib>=0.7.0 in /opt/conda/lib/python3.10/site-packages (from google-auth-oauthlib<1.1,>=0.5->tensorboard<2.15,>=2.14->tensorflow) (1.3.1)\n",
      "Requirement already satisfied: idna<4,>=2.5 in /opt/conda/lib/python3.10/site-packages (from requests<3,>=2.21.0->tensorboard<2.15,>=2.14->tensorflow) (3.4)\n",
      "Requirement already satisfied: certifi>=2017.4.17 in /opt/conda/lib/python3.10/site-packages (from requests<3,>=2.21.0->tensorboard<2.15,>=2.14->tensorflow) (2022.12.7)\n",
      "Requirement already satisfied: charset-normalizer<4,>=2 in /opt/conda/lib/python3.10/site-packages (from requests<3,>=2.21.0->tensorboard<2.15,>=2.14->tensorflow) (2.1.1)\n",
      "Requirement already satisfied: MarkupSafe>=2.1.1 in /opt/conda/lib/python3.10/site-packages (from werkzeug>=1.0.1->tensorboard<2.15,>=2.14->tensorflow) (2.1.1)\n",
      "Requirement already satisfied: pyasn1<0.6.0,>=0.4.6 in /opt/conda/lib/python3.10/site-packages (from pyasn1-modules>=0.2.1->google-auth<3,>=1.6.3->tensorboard<2.15,>=2.14->tensorflow) (0.5.0)\n",
      "Requirement already satisfied: oauthlib>=3.0.0 in /opt/conda/lib/python3.10/site-packages (from requests-oauthlib>=0.7.0->google-auth-oauthlib<1.1,>=0.5->tensorboard<2.15,>=2.14->tensorflow) (3.2.2)\n"
     ]
    }
   ],
   "source": [
    "!pip install tensorflow"
   ]
  },
  {
   "cell_type": "code",
   "execution_count": 85,
   "id": "cbe645e8-5b82-4400-992b-b232d227a736",
   "metadata": {},
   "outputs": [],
   "source": [
    "## import liberaries\n",
    "import tensorflow as tf\n",
    "import matplotlib.pyplot as plt\n",
    "import numpy as np\n",
    "import pandas as pd\n",
    "import seaborn as sns\n",
    "import os"
   ]
  },
  {
   "cell_type": "code",
   "execution_count": null,
   "id": "5e6c95ce-cd02-443c-9644-8465184ca56a",
   "metadata": {},
   "outputs": [],
   "source": []
  },
  {
   "cell_type": "code",
   "execution_count": 86,
   "id": "2160ef68-d0c2-415a-9df8-4f66e7cedd2b",
   "metadata": {},
   "outputs": [
    {
     "name": "stdout",
     "output_type": "stream",
     "text": [
      "Tensorflow version 2.14.0\n",
      "Keras version 2.14.0\n"
     ]
    }
   ],
   "source": [
    "print(f\"Tensorflow version {tf.__version__}\")\n",
    "print(f\"Keras version {tf.__version__}\")"
   ]
  },
  {
   "cell_type": "code",
   "execution_count": 87,
   "id": "004cf12a-d566-4880-806a-5422c9bbb227",
   "metadata": {},
   "outputs": [
    {
     "data": {
      "text/plain": [
       "'/home/jovyan/work'"
      ]
     },
     "execution_count": 87,
     "metadata": {},
     "output_type": "execute_result"
    }
   ],
   "source": [
    "os.getcwd()"
   ]
  },
  {
   "cell_type": "code",
   "execution_count": 88,
   "id": "f3af8b70-15b1-4043-8c79-2d116b3fe63f",
   "metadata": {},
   "outputs": [],
   "source": [
    "## get mnist datasets"
   ]
  },
  {
   "cell_type": "code",
   "execution_count": 89,
   "id": "6d4655d6-c19d-42ad-a1a3-5c0e470017d0",
   "metadata": {},
   "outputs": [],
   "source": [
    "mnist = tf.keras.datasets.mnist"
   ]
  },
  {
   "cell_type": "code",
   "execution_count": 90,
   "id": "067f1a4c-460b-48f0-bed1-72668d138cb2",
   "metadata": {},
   "outputs": [
    {
     "name": "stdout",
     "output_type": "stream",
     "text": [
      "<module 'keras.api._v2.keras.datasets.mnist' from '/opt/conda/lib/python3.10/site-packages/keras/api/_v2/keras/datasets/mnist/__init__.py'>\n"
     ]
    }
   ],
   "source": [
    "print(mnist)"
   ]
  },
  {
   "cell_type": "code",
   "execution_count": 91,
   "id": "d6c26262-1108-4acb-94c4-d9349565d65d",
   "metadata": {},
   "outputs": [
    {
     "data": {
      "text/plain": [
       "((array([[[0, 0, 0, ..., 0, 0, 0],\n",
       "          [0, 0, 0, ..., 0, 0, 0],\n",
       "          [0, 0, 0, ..., 0, 0, 0],\n",
       "          ...,\n",
       "          [0, 0, 0, ..., 0, 0, 0],\n",
       "          [0, 0, 0, ..., 0, 0, 0],\n",
       "          [0, 0, 0, ..., 0, 0, 0]],\n",
       "  \n",
       "         [[0, 0, 0, ..., 0, 0, 0],\n",
       "          [0, 0, 0, ..., 0, 0, 0],\n",
       "          [0, 0, 0, ..., 0, 0, 0],\n",
       "          ...,\n",
       "          [0, 0, 0, ..., 0, 0, 0],\n",
       "          [0, 0, 0, ..., 0, 0, 0],\n",
       "          [0, 0, 0, ..., 0, 0, 0]],\n",
       "  \n",
       "         [[0, 0, 0, ..., 0, 0, 0],\n",
       "          [0, 0, 0, ..., 0, 0, 0],\n",
       "          [0, 0, 0, ..., 0, 0, 0],\n",
       "          ...,\n",
       "          [0, 0, 0, ..., 0, 0, 0],\n",
       "          [0, 0, 0, ..., 0, 0, 0],\n",
       "          [0, 0, 0, ..., 0, 0, 0]],\n",
       "  \n",
       "         ...,\n",
       "  \n",
       "         [[0, 0, 0, ..., 0, 0, 0],\n",
       "          [0, 0, 0, ..., 0, 0, 0],\n",
       "          [0, 0, 0, ..., 0, 0, 0],\n",
       "          ...,\n",
       "          [0, 0, 0, ..., 0, 0, 0],\n",
       "          [0, 0, 0, ..., 0, 0, 0],\n",
       "          [0, 0, 0, ..., 0, 0, 0]],\n",
       "  \n",
       "         [[0, 0, 0, ..., 0, 0, 0],\n",
       "          [0, 0, 0, ..., 0, 0, 0],\n",
       "          [0, 0, 0, ..., 0, 0, 0],\n",
       "          ...,\n",
       "          [0, 0, 0, ..., 0, 0, 0],\n",
       "          [0, 0, 0, ..., 0, 0, 0],\n",
       "          [0, 0, 0, ..., 0, 0, 0]],\n",
       "  \n",
       "         [[0, 0, 0, ..., 0, 0, 0],\n",
       "          [0, 0, 0, ..., 0, 0, 0],\n",
       "          [0, 0, 0, ..., 0, 0, 0],\n",
       "          ...,\n",
       "          [0, 0, 0, ..., 0, 0, 0],\n",
       "          [0, 0, 0, ..., 0, 0, 0],\n",
       "          [0, 0, 0, ..., 0, 0, 0]]], dtype=uint8),\n",
       "  array([5, 0, 4, ..., 5, 6, 8], dtype=uint8)),\n",
       " (array([[[0, 0, 0, ..., 0, 0, 0],\n",
       "          [0, 0, 0, ..., 0, 0, 0],\n",
       "          [0, 0, 0, ..., 0, 0, 0],\n",
       "          ...,\n",
       "          [0, 0, 0, ..., 0, 0, 0],\n",
       "          [0, 0, 0, ..., 0, 0, 0],\n",
       "          [0, 0, 0, ..., 0, 0, 0]],\n",
       "  \n",
       "         [[0, 0, 0, ..., 0, 0, 0],\n",
       "          [0, 0, 0, ..., 0, 0, 0],\n",
       "          [0, 0, 0, ..., 0, 0, 0],\n",
       "          ...,\n",
       "          [0, 0, 0, ..., 0, 0, 0],\n",
       "          [0, 0, 0, ..., 0, 0, 0],\n",
       "          [0, 0, 0, ..., 0, 0, 0]],\n",
       "  \n",
       "         [[0, 0, 0, ..., 0, 0, 0],\n",
       "          [0, 0, 0, ..., 0, 0, 0],\n",
       "          [0, 0, 0, ..., 0, 0, 0],\n",
       "          ...,\n",
       "          [0, 0, 0, ..., 0, 0, 0],\n",
       "          [0, 0, 0, ..., 0, 0, 0],\n",
       "          [0, 0, 0, ..., 0, 0, 0]],\n",
       "  \n",
       "         ...,\n",
       "  \n",
       "         [[0, 0, 0, ..., 0, 0, 0],\n",
       "          [0, 0, 0, ..., 0, 0, 0],\n",
       "          [0, 0, 0, ..., 0, 0, 0],\n",
       "          ...,\n",
       "          [0, 0, 0, ..., 0, 0, 0],\n",
       "          [0, 0, 0, ..., 0, 0, 0],\n",
       "          [0, 0, 0, ..., 0, 0, 0]],\n",
       "  \n",
       "         [[0, 0, 0, ..., 0, 0, 0],\n",
       "          [0, 0, 0, ..., 0, 0, 0],\n",
       "          [0, 0, 0, ..., 0, 0, 0],\n",
       "          ...,\n",
       "          [0, 0, 0, ..., 0, 0, 0],\n",
       "          [0, 0, 0, ..., 0, 0, 0],\n",
       "          [0, 0, 0, ..., 0, 0, 0]],\n",
       "  \n",
       "         [[0, 0, 0, ..., 0, 0, 0],\n",
       "          [0, 0, 0, ..., 0, 0, 0],\n",
       "          [0, 0, 0, ..., 0, 0, 0],\n",
       "          ...,\n",
       "          [0, 0, 0, ..., 0, 0, 0],\n",
       "          [0, 0, 0, ..., 0, 0, 0],\n",
       "          [0, 0, 0, ..., 0, 0, 0]]], dtype=uint8),\n",
       "  array([7, 2, 1, ..., 4, 5, 6], dtype=uint8)))"
      ]
     },
     "execution_count": 91,
     "metadata": {},
     "output_type": "execute_result"
    }
   ],
   "source": [
    "mnist.load_data()"
   ]
  },
  {
   "cell_type": "code",
   "execution_count": 92,
   "id": "5227dd73-8597-4eb8-b728-27bc2930dc4a",
   "metadata": {},
   "outputs": [],
   "source": [
    "(X_train_full , y_train_full) , (X_test,y_test) = mnist.load_data()"
   ]
  },
  {
   "cell_type": "code",
   "execution_count": 93,
   "id": "873bac64-d4b1-4b68-a291-9db39162b075",
   "metadata": {},
   "outputs": [
    {
     "data": {
      "text/plain": [
       "(array([[[0, 0, 0, ..., 0, 0, 0],\n",
       "         [0, 0, 0, ..., 0, 0, 0],\n",
       "         [0, 0, 0, ..., 0, 0, 0],\n",
       "         ...,\n",
       "         [0, 0, 0, ..., 0, 0, 0],\n",
       "         [0, 0, 0, ..., 0, 0, 0],\n",
       "         [0, 0, 0, ..., 0, 0, 0]],\n",
       " \n",
       "        [[0, 0, 0, ..., 0, 0, 0],\n",
       "         [0, 0, 0, ..., 0, 0, 0],\n",
       "         [0, 0, 0, ..., 0, 0, 0],\n",
       "         ...,\n",
       "         [0, 0, 0, ..., 0, 0, 0],\n",
       "         [0, 0, 0, ..., 0, 0, 0],\n",
       "         [0, 0, 0, ..., 0, 0, 0]],\n",
       " \n",
       "        [[0, 0, 0, ..., 0, 0, 0],\n",
       "         [0, 0, 0, ..., 0, 0, 0],\n",
       "         [0, 0, 0, ..., 0, 0, 0],\n",
       "         ...,\n",
       "         [0, 0, 0, ..., 0, 0, 0],\n",
       "         [0, 0, 0, ..., 0, 0, 0],\n",
       "         [0, 0, 0, ..., 0, 0, 0]],\n",
       " \n",
       "        ...,\n",
       " \n",
       "        [[0, 0, 0, ..., 0, 0, 0],\n",
       "         [0, 0, 0, ..., 0, 0, 0],\n",
       "         [0, 0, 0, ..., 0, 0, 0],\n",
       "         ...,\n",
       "         [0, 0, 0, ..., 0, 0, 0],\n",
       "         [0, 0, 0, ..., 0, 0, 0],\n",
       "         [0, 0, 0, ..., 0, 0, 0]],\n",
       " \n",
       "        [[0, 0, 0, ..., 0, 0, 0],\n",
       "         [0, 0, 0, ..., 0, 0, 0],\n",
       "         [0, 0, 0, ..., 0, 0, 0],\n",
       "         ...,\n",
       "         [0, 0, 0, ..., 0, 0, 0],\n",
       "         [0, 0, 0, ..., 0, 0, 0],\n",
       "         [0, 0, 0, ..., 0, 0, 0]],\n",
       " \n",
       "        [[0, 0, 0, ..., 0, 0, 0],\n",
       "         [0, 0, 0, ..., 0, 0, 0],\n",
       "         [0, 0, 0, ..., 0, 0, 0],\n",
       "         ...,\n",
       "         [0, 0, 0, ..., 0, 0, 0],\n",
       "         [0, 0, 0, ..., 0, 0, 0],\n",
       "         [0, 0, 0, ..., 0, 0, 0]]], dtype=uint8),\n",
       " array([5, 0, 4, ..., 5, 6, 8], dtype=uint8))"
      ]
     },
     "execution_count": 93,
     "metadata": {},
     "output_type": "execute_result"
    }
   ],
   "source": [
    "X_train_full , y_train_full"
   ]
  },
  {
   "cell_type": "code",
   "execution_count": 94,
   "id": "ee80f96f-2d1a-444b-99ef-267e53eeaa60",
   "metadata": {},
   "outputs": [
    {
     "data": {
      "text/plain": [
       "(60000, 28, 28)"
      ]
     },
     "execution_count": 94,
     "metadata": {},
     "output_type": "execute_result"
    }
   ],
   "source": [
    "X_train_full.shape"
   ]
  },
  {
   "cell_type": "code",
   "execution_count": 95,
   "id": "74b307b5-a2a8-4418-9f5f-80b76c3a4ce7",
   "metadata": {},
   "outputs": [
    {
     "data": {
      "text/plain": [
       "1"
      ]
     },
     "execution_count": 95,
     "metadata": {},
     "output_type": "execute_result"
    }
   ],
   "source": [
    "y_train_full[0].size"
   ]
  },
  {
   "cell_type": "code",
   "execution_count": 96,
   "id": "1b596e89-2eeb-45db-a37b-d8fcde828dd2",
   "metadata": {},
   "outputs": [
    {
     "data": {
      "text/plain": [
       "(10000, 28, 28)"
      ]
     },
     "execution_count": 96,
     "metadata": {},
     "output_type": "execute_result"
    }
   ],
   "source": [
    "X_test.shape"
   ]
  },
  {
   "cell_type": "code",
   "execution_count": 97,
   "id": "2f30a972-4dba-400e-847d-256165f5fe79",
   "metadata": {},
   "outputs": [],
   "source": [
    "## validation and training data sets"
   ]
  },
  {
   "cell_type": "markdown",
   "id": "be8350d8-b41e-44b3-a51f-d80da2ec5255",
   "metadata": {},
   "source": [
    "X_valid , X_train = X_train_full[:5000]/255.0 , X_train_full[5000:]/255.0\n",
    "y_valid , y_train = y_train_full[:5000] , y_train_full[5000:]\n",
    "\n",
    "\n",
    "## scale the test set as welll\n",
    "X_test = X_test/255.0"
   ]
  },
  {
   "cell_type": "code",
   "execution_count": null,
   "id": "b23ed5f8-7c35-411b-8c29-823a657c1654",
   "metadata": {},
   "outputs": [],
   "source": [
    "X_valid, X_train = X_train_full[:5000] / 255.0, X_train_full[5000:] / 255.0"
   ]
  },
  {
   "cell_type": "code",
   "execution_count": 163,
   "id": "107c4701-f7d2-4dad-9c4f-df96c231b691",
   "metadata": {},
   "outputs": [
    {
     "data": {
      "text/plain": [
       "(5000, 55000)"
      ]
     },
     "execution_count": 163,
     "metadata": {},
     "output_type": "execute_result"
    }
   ],
   "source": [
    "len(X_train_full[:5000]) , len(X_train_full[5000:])"
   ]
  },
  {
   "cell_type": "code",
   "execution_count": 164,
   "id": "3f07169d-003a-423f-b72b-49fc398823ab",
   "metadata": {},
   "outputs": [],
   "source": [
    "## plot data points\n",
    "## use imshow to print data into image"
   ]
  },
  {
   "cell_type": "code",
   "execution_count": 165,
   "id": "859d139d-607f-4631-a750-329f464fb6bc",
   "metadata": {},
   "outputs": [
    {
     "data": {
      "image/png": "[encoded data removed]",
      "text/plain": [
       "<Figure size 640x480 with 1 Axes>"
      ]
     },
     "metadata": {},
     "output_type": "display_data"
    }
   ],
   "source": [
    "plt.imshow(X_train[1] , cmap='binary')\n",
    "plt.show()"
   ]
  },
  {
   "cell_type": "code",
   "execution_count": 102,
   "id": "bb44a0d7-ef0a-4d6c-a89b-5b07fdfaa010",
   "metadata": {},
   "outputs": [],
   "source": [
    "## plot heat mat to see the corelationship"
   ]
  },
  {
   "cell_type": "code",
   "execution_count": 103,
   "id": "a5eab074-6085-49c0-b1a3-3738dd84f538",
   "metadata": {},
   "outputs": [
    {
     "data": {
      "text/plain": [
       "<AxesSubplot: >"
      ]
     },
     "execution_count": 103,
     "metadata": {},
     "output_type": "execute_result"
    },
    {
     "data": {
      "image/png": "[encoded data removed]",
      "text/plain": [
       "<Figure size 1500x1500 with 2 Axes>"
      ]
     },
     "metadata": {},
     "output_type": "display_data"
    }
   ],
   "source": [
    "plt.figure(figsize=(15,15))\n",
    "sns.heatmap(X_train[1], annot=True , cmap='binary')"
   ]
  },
  {
   "cell_type": "code",
   "execution_count": 104,
   "id": "20f853a0-954d-4e8a-aa74-83a22e81f9ae",
   "metadata": {},
   "outputs": [],
   "source": [
    "## creating layers of ANN"
   ]
  },
  {
   "cell_type": "code",
   "execution_count": 105,
   "id": "cb37ea94-9bb1-4298-a597-ea60cd2af8f7",
   "metadata": {},
   "outputs": [],
   "source": [
    "layers = [ tf.keras.layers.Flatten(input_shape=[28,28] , name = 'ImputLayer') ,\n",
    "           tf.keras.layers.Dense(300 , activation='relu' , name='hiddenlayer1'),\n",
    "           tf.keras.layers.Dense(100 , activation='relu' , name='hiddenlayer2'),\n",
    "           tf.keras.layers.Dense(10 , activation='softmax' , name='outerlayer')]\n",
    "\n",
    "model_clf = tf.keras.models.Sequential(layers)"
   ]
  },
  {
   "cell_type": "code",
   "execution_count": 106,
   "id": "c7ae78c4-4684-4ded-bcd8-b094e89724ac",
   "metadata": {},
   "outputs": [
    {
     "data": {
      "text/plain": [
       "[<keras.src.layers.reshaping.flatten.Flatten at 0x7f0d3c471150>,\n",
       " <keras.src.layers.core.dense.Dense at 0x7f0d5c20b8e0>,\n",
       " <keras.src.layers.core.dense.Dense at 0x7f0d5c20ba00>,\n",
       " <keras.src.layers.core.dense.Dense at 0x7f0d5c2e27a0>]"
      ]
     },
     "execution_count": 106,
     "metadata": {},
     "output_type": "execute_result"
    }
   ],
   "source": [
    "layers"
   ]
  },
  {
   "cell_type": "code",
   "execution_count": 107,
   "id": "b86e7cb5-14e2-4ef5-b2ce-6e45c7c7a457",
   "metadata": {},
   "outputs": [
    {
     "data": {
      "text/plain": [
       "[<keras.src.layers.reshaping.flatten.Flatten at 0x7f0d3c471150>,\n",
       " <keras.src.layers.core.dense.Dense at 0x7f0d5c20b8e0>,\n",
       " <keras.src.layers.core.dense.Dense at 0x7f0d5c20ba00>,\n",
       " <keras.src.layers.core.dense.Dense at 0x7f0d5c2e27a0>]"
      ]
     },
     "execution_count": 107,
     "metadata": {},
     "output_type": "execute_result"
    }
   ],
   "source": [
    "model_clf.layers"
   ]
  },
  {
   "cell_type": "code",
   "execution_count": 108,
   "id": "3dfbc7c9-4a2f-41d0-824c-c50b287371e8",
   "metadata": {},
   "outputs": [
    {
     "name": "stdout",
     "output_type": "stream",
     "text": [
      "Model: \"sequential_7\"\n",
      "_________________________________________________________________\n",
      " Layer (type)                Output Shape              Param #   \n",
      "=================================================================\n",
      " ImputLayer (Flatten)        (None, 784)               0         \n",
      "                                                                 \n",
      " hiddenlayer1 (Dense)        (None, 300)               235500    \n",
      "                                                                 \n",
      " hiddenlayer2 (Dense)        (None, 100)               30100     \n",
      "                                                                 \n",
      " outerlayer (Dense)          (None, 10)                1010      \n",
      "                                                                 \n",
      "=================================================================\n",
      "Total params: 266610 (1.02 MB)\n",
      "Trainable params: 266610 (1.02 MB)\n",
      "Non-trainable params: 0 (0.00 Byte)\n",
      "_________________________________________________________________\n"
     ]
    }
   ],
   "source": [
    "## Extract the summary\n",
    "model_clf.summary()"
   ]
  },
  {
   "cell_type": "code",
   "execution_count": 109,
   "id": "7c8c4840-0dae-4256-91d8-6cc7000b138a",
   "metadata": {},
   "outputs": [],
   "source": [
    "## total number of parameters\n",
    "\n",
    "hiddenlayer1 = 785*300\n",
    "hiddenlayer2 = 301 * 100\n",
    "outputlayer = 101 * 10"
   ]
  },
  {
   "cell_type": "code",
   "execution_count": 110,
   "id": "11d3fb1f-84e5-4f1a-b6ad-4621658b5e45",
   "metadata": {},
   "outputs": [
    {
     "data": {
      "text/plain": [
       "(235500, 30100, 1010)"
      ]
     },
     "execution_count": 110,
     "metadata": {},
     "output_type": "execute_result"
    }
   ],
   "source": [
    "hiddenlayer1,hiddenlayer2,outputlayer"
   ]
  },
  {
   "cell_type": "code",
   "execution_count": 111,
   "id": "50abeb57-54fc-4470-9158-3dddd619eb96",
   "metadata": {},
   "outputs": [
    {
     "data": {
      "text/plain": [
       "'hiddenlayer1'"
      ]
     },
     "execution_count": 111,
     "metadata": {},
     "output_type": "execute_result"
    }
   ],
   "source": [
    "hidden1 = model_clf.layers[1]\n",
    "hidden1.name"
   ]
  },
  {
   "cell_type": "code",
   "execution_count": 112,
   "id": "b244904f-e447-40ab-a20f-d7d69ea16897",
   "metadata": {},
   "outputs": [
    {
     "data": {
      "text/plain": [
       "(784, 300)"
      ]
     },
     "execution_count": 112,
     "metadata": {},
     "output_type": "execute_result"
    }
   ],
   "source": [
    "hidden1.get_weights()[0].shape"
   ]
  },
  {
   "cell_type": "code",
   "execution_count": 113,
   "id": "5cb885a3-48e9-458d-bb1f-51b5eb9b9500",
   "metadata": {},
   "outputs": [
    {
     "data": {
      "text/plain": [
       "(300,)"
      ]
     },
     "execution_count": 113,
     "metadata": {},
     "output_type": "execute_result"
    }
   ],
   "source": [
    "hidden1.get_weights()[1].shape"
   ]
  },
  {
   "cell_type": "code",
   "execution_count": 114,
   "id": "618589cb-220b-4047-b13a-6657f07bbbeb",
   "metadata": {},
   "outputs": [],
   "source": [
    "## weigts and bias"
   ]
  },
  {
   "cell_type": "code",
   "execution_count": 115,
   "id": "d2a1a305-e915-45b1-9caa-7cf46f3738d8",
   "metadata": {},
   "outputs": [],
   "source": [
    "weights , bias = hidden1.get_weights()"
   ]
  },
  {
   "cell_type": "code",
   "execution_count": 116,
   "id": "21f99234-224d-461e-b791-63e4e408d0f0",
   "metadata": {},
   "outputs": [
    {
     "data": {
      "text/plain": [
       "(784, 300)"
      ]
     },
     "execution_count": 116,
     "metadata": {},
     "output_type": "execute_result"
    }
   ],
   "source": [
    "weights.shape"
   ]
  },
  {
   "cell_type": "code",
   "execution_count": 117,
   "id": "ff37c62e-f056-4e6f-983f-2737c03fc6f6",
   "metadata": {},
   "outputs": [
    {
     "data": {
      "text/plain": [
       "(300,)"
      ]
     },
     "execution_count": 117,
     "metadata": {},
     "output_type": "execute_result"
    }
   ],
   "source": [
    "bias.shape"
   ]
  },
  {
   "cell_type": "code",
   "execution_count": 118,
   "id": "af223dbe-4d6b-425a-b90e-f15b9c82c55e",
   "metadata": {},
   "outputs": [
    {
     "name": "stdout",
     "output_type": "stream",
     "text": [
      "shape\n",
      " (784, 300) \n",
      "\n"
     ]
    },
    {
     "data": {
      "text/plain": [
       "array([[-0.02979562, -0.00899045,  0.01314443, ..., -0.03932211,\n",
       "         0.01808167,  0.05789599],\n",
       "       [ 0.04061963, -0.03112866, -0.02005273, ...,  0.06700595,\n",
       "        -0.02559436, -0.04765367],\n",
       "       [-0.04026404,  0.01585555, -0.0389472 , ...,  0.00711557,\n",
       "        -0.05147703, -0.05500212],\n",
       "       ...,\n",
       "       [ 0.04352845, -0.07004235,  0.06084432, ...,  0.01162481,\n",
       "        -0.04371084,  0.01921915],\n",
       "       [-0.05778202,  0.01296367, -0.07305887, ..., -0.0046186 ,\n",
       "         0.07122661, -0.05109419],\n",
       "       [ 0.01697789, -0.06092158,  0.01430891, ..., -0.05236122,\n",
       "         0.03947976,  0.00796527]], dtype=float32)"
      ]
     },
     "execution_count": 118,
     "metadata": {},
     "output_type": "execute_result"
    }
   ],
   "source": [
    "print('shape\\n' , weights.shape , '\\n')\n",
    "weights"
   ]
  },
  {
   "cell_type": "code",
   "execution_count": 119,
   "id": "696a4a58-bba5-42bc-8bb5-69ba29e46a19",
   "metadata": {},
   "outputs": [
    {
     "name": "stdout",
     "output_type": "stream",
     "text": [
      "shape\n",
      " (300,) \n",
      "\n"
     ]
    },
    {
     "data": {
      "text/plain": [
       "array([0., 0., 0., 0., 0., 0., 0., 0., 0., 0., 0., 0., 0., 0., 0., 0., 0.,\n",
       "       0., 0., 0., 0., 0., 0., 0., 0., 0., 0., 0., 0., 0., 0., 0., 0., 0.,\n",
       "       0., 0., 0., 0., 0., 0., 0., 0., 0., 0., 0., 0., 0., 0., 0., 0., 0.,\n",
       "       0., 0., 0., 0., 0., 0., 0., 0., 0., 0., 0., 0., 0., 0., 0., 0., 0.,\n",
       "       0., 0., 0., 0., 0., 0., 0., 0., 0., 0., 0., 0., 0., 0., 0., 0., 0.,\n",
       "       0., 0., 0., 0., 0., 0., 0., 0., 0., 0., 0., 0., 0., 0., 0., 0., 0.,\n",
       "       0., 0., 0., 0., 0., 0., 0., 0., 0., 0., 0., 0., 0., 0., 0., 0., 0.,\n",
       "       0., 0., 0., 0., 0., 0., 0., 0., 0., 0., 0., 0., 0., 0., 0., 0., 0.,\n",
       "       0., 0., 0., 0., 0., 0., 0., 0., 0., 0., 0., 0., 0., 0., 0., 0., 0.,\n",
       "       0., 0., 0., 0., 0., 0., 0., 0., 0., 0., 0., 0., 0., 0., 0., 0., 0.,\n",
       "       0., 0., 0., 0., 0., 0., 0., 0., 0., 0., 0., 0., 0., 0., 0., 0., 0.,\n",
       "       0., 0., 0., 0., 0., 0., 0., 0., 0., 0., 0., 0., 0., 0., 0., 0., 0.,\n",
       "       0., 0., 0., 0., 0., 0., 0., 0., 0., 0., 0., 0., 0., 0., 0., 0., 0.,\n",
       "       0., 0., 0., 0., 0., 0., 0., 0., 0., 0., 0., 0., 0., 0., 0., 0., 0.,\n",
       "       0., 0., 0., 0., 0., 0., 0., 0., 0., 0., 0., 0., 0., 0., 0., 0., 0.,\n",
       "       0., 0., 0., 0., 0., 0., 0., 0., 0., 0., 0., 0., 0., 0., 0., 0., 0.,\n",
       "       0., 0., 0., 0., 0., 0., 0., 0., 0., 0., 0., 0., 0., 0., 0., 0., 0.,\n",
       "       0., 0., 0., 0., 0., 0., 0., 0., 0., 0., 0.], dtype=float32)"
      ]
     },
     "execution_count": 119,
     "metadata": {},
     "output_type": "execute_result"
    }
   ],
   "source": [
    "print('shape\\n' , bias.shape , '\\n')\n",
    "bias"
   ]
  },
  {
   "cell_type": "code",
   "execution_count": 120,
   "id": "08fae157-34fe-43e7-9b22-cf6aa0960034",
   "metadata": {},
   "outputs": [],
   "source": [
    "loss_function = tf.losses.sparse_categorical_crossentropy\n",
    "optmizer = tf.keras.optimizers.SGD(0.02)"
   ]
  },
  {
   "cell_type": "code",
   "execution_count": 121,
   "id": "5ff1506b-0f02-4f33-bc02-722e619fc7d8",
   "metadata": {},
   "outputs": [],
   "source": [
    "model_clf.compile(loss=loss_function,optimizer=optmizer,metrics='accuracy')"
   ]
  },
  {
   "cell_type": "code",
   "execution_count": 122,
   "id": "839aa8df-861c-43cd-815a-dab92aa8e689",
   "metadata": {},
   "outputs": [],
   "source": [
    "## model training"
   ]
  },
  {
   "cell_type": "code",
   "execution_count": 123,
   "id": "485ec8fe-0873-428f-b170-72700023cb1e",
   "metadata": {},
   "outputs": [
    {
     "name": "stdout",
     "output_type": "stream",
     "text": [
      "Epoch 1/30\n",
      "1719/1719 [==============================] - 6s 3ms/step - loss: 0.4576 - accuracy: 0.8757 - val_loss: 0.2413 - val_accuracy: 0.9328\n",
      "Epoch 2/30\n",
      "1719/1719 [==============================] - 5s 3ms/step - loss: 0.2268 - accuracy: 0.9350 - val_loss: 0.1814 - val_accuracy: 0.9482\n",
      "Epoch 3/30\n",
      "1719/1719 [==============================] - 5s 3ms/step - loss: 0.1720 - accuracy: 0.9509 - val_loss: 0.1441 - val_accuracy: 0.9602\n",
      "Epoch 4/30\n",
      "1719/1719 [==============================] - 5s 3ms/step - loss: 0.1387 - accuracy: 0.9598 - val_loss: 0.1249 - val_accuracy: 0.9662\n",
      "Epoch 5/30\n",
      "1719/1719 [==============================] - 6s 3ms/step - loss: 0.1155 - accuracy: 0.9668 - val_loss: 0.1067 - val_accuracy: 0.9716\n",
      "Epoch 6/30\n",
      "1719/1719 [==============================] - 6s 3ms/step - loss: 0.0983 - accuracy: 0.9719 - val_loss: 0.0990 - val_accuracy: 0.9724\n",
      "Epoch 7/30\n",
      "1719/1719 [==============================] - 5s 3ms/step - loss: 0.0851 - accuracy: 0.9761 - val_loss: 0.0924 - val_accuracy: 0.9740\n",
      "Epoch 8/30\n",
      "1719/1719 [==============================] - 5s 3ms/step - loss: 0.0738 - accuracy: 0.9791 - val_loss: 0.0854 - val_accuracy: 0.9742\n",
      "Epoch 9/30\n",
      "1719/1719 [==============================] - 5s 3ms/step - loss: 0.0651 - accuracy: 0.9817 - val_loss: 0.0802 - val_accuracy: 0.9768\n",
      "Epoch 10/30\n",
      "1719/1719 [==============================] - 5s 3ms/step - loss: 0.0576 - accuracy: 0.9838 - val_loss: 0.0758 - val_accuracy: 0.9778\n",
      "Epoch 11/30\n",
      "1719/1719 [==============================] - 5s 3ms/step - loss: 0.0515 - accuracy: 0.9858 - val_loss: 0.0731 - val_accuracy: 0.9792\n",
      "Epoch 12/30\n",
      "1719/1719 [==============================] - 5s 3ms/step - loss: 0.0458 - accuracy: 0.9876 - val_loss: 0.0701 - val_accuracy: 0.9788\n",
      "Epoch 13/30\n",
      "1719/1719 [==============================] - 5s 3ms/step - loss: 0.0410 - accuracy: 0.9890 - val_loss: 0.0751 - val_accuracy: 0.9766\n",
      "Epoch 14/30\n",
      "1719/1719 [==============================] - 5s 3ms/step - loss: 0.0365 - accuracy: 0.9902 - val_loss: 0.0679 - val_accuracy: 0.9792\n",
      "Epoch 15/30\n",
      "1719/1719 [==============================] - 5s 3ms/step - loss: 0.0328 - accuracy: 0.9916 - val_loss: 0.0683 - val_accuracy: 0.9790\n",
      "Epoch 16/30\n",
      "1719/1719 [==============================] - 5s 3ms/step - loss: 0.0293 - accuracy: 0.9927 - val_loss: 0.0673 - val_accuracy: 0.9800\n",
      "Epoch 17/30\n",
      "1719/1719 [==============================] - 5s 3ms/step - loss: 0.0263 - accuracy: 0.9937 - val_loss: 0.0665 - val_accuracy: 0.9804\n",
      "Epoch 18/30\n",
      "1719/1719 [==============================] - 5s 3ms/step - loss: 0.0235 - accuracy: 0.9946 - val_loss: 0.0677 - val_accuracy: 0.9796\n",
      "Epoch 19/30\n",
      "1719/1719 [==============================] - 5s 3ms/step - loss: 0.0213 - accuracy: 0.9952 - val_loss: 0.0663 - val_accuracy: 0.9800\n",
      "Epoch 20/30\n",
      "1719/1719 [==============================] - 5s 3ms/step - loss: 0.0191 - accuracy: 0.9962 - val_loss: 0.0657 - val_accuracy: 0.9798\n",
      "Epoch 21/30\n",
      "1719/1719 [==============================] - 5s 3ms/step - loss: 0.0172 - accuracy: 0.9967 - val_loss: 0.0661 - val_accuracy: 0.9788\n",
      "Epoch 22/30\n",
      "1719/1719 [==============================] - 5s 3ms/step - loss: 0.0154 - accuracy: 0.9974 - val_loss: 0.0652 - val_accuracy: 0.9808\n",
      "Epoch 23/30\n",
      "1719/1719 [==============================] - 6s 3ms/step - loss: 0.0139 - accuracy: 0.9977 - val_loss: 0.0650 - val_accuracy: 0.9806\n",
      "Epoch 24/30\n",
      "1719/1719 [==============================] - 5s 3ms/step - loss: 0.0125 - accuracy: 0.9984 - val_loss: 0.0651 - val_accuracy: 0.9812\n",
      "Epoch 25/30\n",
      "1719/1719 [==============================] - 5s 3ms/step - loss: 0.0114 - accuracy: 0.9986 - val_loss: 0.0656 - val_accuracy: 0.9802\n",
      "Epoch 26/30\n",
      "1719/1719 [==============================] - 5s 3ms/step - loss: 0.0105 - accuracy: 0.9986 - val_loss: 0.0668 - val_accuracy: 0.9796\n",
      "Epoch 27/30\n",
      "1719/1719 [==============================] - 5s 3ms/step - loss: 0.0094 - accuracy: 0.9991 - val_loss: 0.0669 - val_accuracy: 0.9812\n",
      "Epoch 28/30\n",
      "1719/1719 [==============================] - 5s 3ms/step - loss: 0.0086 - accuracy: 0.9992 - val_loss: 0.0660 - val_accuracy: 0.9812\n",
      "Epoch 29/30\n",
      "1719/1719 [==============================] - 5s 3ms/step - loss: 0.0078 - accuracy: 0.9994 - val_loss: 0.0665 - val_accuracy: 0.9814\n",
      "Epoch 30/30\n",
      "1719/1719 [==============================] - 5s 3ms/step - loss: 0.0071 - accuracy: 0.9995 - val_loss: 0.0663 - val_accuracy: 0.9816\n"
     ]
    }
   ],
   "source": [
    "Epoches = 30\n",
    "validation_dataset = X_valid,y_valid\n",
    "\n",
    "history = model_clf.fit(X_train,y_train,epochs=30 , validation_data=validation_dataset,batch_size=32)"
   ]
  },
  {
   "cell_type": "code",
   "execution_count": 124,
   "id": "52292417-4e87-4670-af8b-be6499ddc198",
   "metadata": {},
   "outputs": [],
   "source": [
    "data = pd.DataFrame(history.history)"
   ]
  },
  {
   "cell_type": "code",
   "execution_count": 125,
   "id": "7bcf0aa0-007f-498a-a6c6-cd688a9310ba",
   "metadata": {},
   "outputs": [
    {
     "data": {
      "text/html": [
       "<div>\n",
       "<style scoped>\n",
       "    .dataframe tbody tr th:only-of-type {\n",
       "        vertical-align: middle;\n",
       "    }\n",
       "\n",
       "    .dataframe tbody tr th {\n",
       "        vertical-align: top;\n",
       "    }\n",
       "\n",
       "    .dataframe thead th {\n",
       "        text-align: right;\n",
       "    }\n",
       "</style>\n",
       "<table border=\"1\" class=\"dataframe\">\n",
       "  <thead>\n",
       "    <tr style=\"text-align: right;\">\n",
       "      <th></th>\n",
       "      <th>loss</th>\n",
       "      <th>accuracy</th>\n",
       "      <th>val_loss</th>\n",
       "      <th>val_accuracy</th>\n",
       "    </tr>\n",
       "  </thead>\n",
       "  <tbody>\n",
       "    <tr>\n",
       "      <th>0</th>\n",
       "      <td>0.457621</td>\n",
       "      <td>0.875709</td>\n",
       "      <td>0.241295</td>\n",
       "      <td>0.9328</td>\n",
       "    </tr>\n",
       "    <tr>\n",
       "      <th>1</th>\n",
       "      <td>0.226838</td>\n",
       "      <td>0.934982</td>\n",
       "      <td>0.181395</td>\n",
       "      <td>0.9482</td>\n",
       "    </tr>\n",
       "    <tr>\n",
       "      <th>2</th>\n",
       "      <td>0.171987</td>\n",
       "      <td>0.950927</td>\n",
       "      <td>0.144087</td>\n",
       "      <td>0.9602</td>\n",
       "    </tr>\n",
       "    <tr>\n",
       "      <th>3</th>\n",
       "      <td>0.138696</td>\n",
       "      <td>0.959782</td>\n",
       "      <td>0.124873</td>\n",
       "      <td>0.9662</td>\n",
       "    </tr>\n",
       "    <tr>\n",
       "      <th>4</th>\n",
       "      <td>0.115485</td>\n",
       "      <td>0.966818</td>\n",
       "      <td>0.106736</td>\n",
       "      <td>0.9716</td>\n",
       "    </tr>\n",
       "    <tr>\n",
       "      <th>5</th>\n",
       "      <td>0.098294</td>\n",
       "      <td>0.971909</td>\n",
       "      <td>0.098959</td>\n",
       "      <td>0.9724</td>\n",
       "    </tr>\n",
       "    <tr>\n",
       "      <th>6</th>\n",
       "      <td>0.085086</td>\n",
       "      <td>0.976073</td>\n",
       "      <td>0.092401</td>\n",
       "      <td>0.9740</td>\n",
       "    </tr>\n",
       "    <tr>\n",
       "      <th>7</th>\n",
       "      <td>0.073759</td>\n",
       "      <td>0.979109</td>\n",
       "      <td>0.085438</td>\n",
       "      <td>0.9742</td>\n",
       "    </tr>\n",
       "    <tr>\n",
       "      <th>8</th>\n",
       "      <td>0.065054</td>\n",
       "      <td>0.981691</td>\n",
       "      <td>0.080153</td>\n",
       "      <td>0.9768</td>\n",
       "    </tr>\n",
       "    <tr>\n",
       "      <th>9</th>\n",
       "      <td>0.057624</td>\n",
       "      <td>0.983782</td>\n",
       "      <td>0.075794</td>\n",
       "      <td>0.9778</td>\n",
       "    </tr>\n",
       "    <tr>\n",
       "      <th>10</th>\n",
       "      <td>0.051543</td>\n",
       "      <td>0.985800</td>\n",
       "      <td>0.073088</td>\n",
       "      <td>0.9792</td>\n",
       "    </tr>\n",
       "    <tr>\n",
       "      <th>11</th>\n",
       "      <td>0.045822</td>\n",
       "      <td>0.987582</td>\n",
       "      <td>0.070123</td>\n",
       "      <td>0.9788</td>\n",
       "    </tr>\n",
       "    <tr>\n",
       "      <th>12</th>\n",
       "      <td>0.041023</td>\n",
       "      <td>0.988982</td>\n",
       "      <td>0.075114</td>\n",
       "      <td>0.9766</td>\n",
       "    </tr>\n",
       "    <tr>\n",
       "      <th>13</th>\n",
       "      <td>0.036523</td>\n",
       "      <td>0.990236</td>\n",
       "      <td>0.067895</td>\n",
       "      <td>0.9792</td>\n",
       "    </tr>\n",
       "    <tr>\n",
       "      <th>14</th>\n",
       "      <td>0.032802</td>\n",
       "      <td>0.991618</td>\n",
       "      <td>0.068288</td>\n",
       "      <td>0.9790</td>\n",
       "    </tr>\n",
       "    <tr>\n",
       "      <th>15</th>\n",
       "      <td>0.029292</td>\n",
       "      <td>0.992691</td>\n",
       "      <td>0.067323</td>\n",
       "      <td>0.9800</td>\n",
       "    </tr>\n",
       "    <tr>\n",
       "      <th>16</th>\n",
       "      <td>0.026310</td>\n",
       "      <td>0.993673</td>\n",
       "      <td>0.066511</td>\n",
       "      <td>0.9804</td>\n",
       "    </tr>\n",
       "    <tr>\n",
       "      <th>17</th>\n",
       "      <td>0.023452</td>\n",
       "      <td>0.994582</td>\n",
       "      <td>0.067722</td>\n",
       "      <td>0.9796</td>\n",
       "    </tr>\n",
       "    <tr>\n",
       "      <th>18</th>\n",
       "      <td>0.021332</td>\n",
       "      <td>0.995200</td>\n",
       "      <td>0.066269</td>\n",
       "      <td>0.9800</td>\n",
       "    </tr>\n",
       "    <tr>\n",
       "      <th>19</th>\n",
       "      <td>0.019130</td>\n",
       "      <td>0.996218</td>\n",
       "      <td>0.065674</td>\n",
       "      <td>0.9798</td>\n",
       "    </tr>\n",
       "    <tr>\n",
       "      <th>20</th>\n",
       "      <td>0.017187</td>\n",
       "      <td>0.996655</td>\n",
       "      <td>0.066060</td>\n",
       "      <td>0.9788</td>\n",
       "    </tr>\n",
       "    <tr>\n",
       "      <th>21</th>\n",
       "      <td>0.015355</td>\n",
       "      <td>0.997400</td>\n",
       "      <td>0.065164</td>\n",
       "      <td>0.9808</td>\n",
       "    </tr>\n",
       "    <tr>\n",
       "      <th>22</th>\n",
       "      <td>0.013937</td>\n",
       "      <td>0.997655</td>\n",
       "      <td>0.064996</td>\n",
       "      <td>0.9806</td>\n",
       "    </tr>\n",
       "    <tr>\n",
       "      <th>23</th>\n",
       "      <td>0.012537</td>\n",
       "      <td>0.998364</td>\n",
       "      <td>0.065103</td>\n",
       "      <td>0.9812</td>\n",
       "    </tr>\n",
       "    <tr>\n",
       "      <th>24</th>\n",
       "      <td>0.011401</td>\n",
       "      <td>0.998564</td>\n",
       "      <td>0.065624</td>\n",
       "      <td>0.9802</td>\n",
       "    </tr>\n",
       "    <tr>\n",
       "      <th>25</th>\n",
       "      <td>0.010463</td>\n",
       "      <td>0.998618</td>\n",
       "      <td>0.066788</td>\n",
       "      <td>0.9796</td>\n",
       "    </tr>\n",
       "    <tr>\n",
       "      <th>26</th>\n",
       "      <td>0.009394</td>\n",
       "      <td>0.999055</td>\n",
       "      <td>0.066905</td>\n",
       "      <td>0.9812</td>\n",
       "    </tr>\n",
       "    <tr>\n",
       "      <th>27</th>\n",
       "      <td>0.008605</td>\n",
       "      <td>0.999182</td>\n",
       "      <td>0.066018</td>\n",
       "      <td>0.9812</td>\n",
       "    </tr>\n",
       "    <tr>\n",
       "      <th>28</th>\n",
       "      <td>0.007820</td>\n",
       "      <td>0.999364</td>\n",
       "      <td>0.066509</td>\n",
       "      <td>0.9814</td>\n",
       "    </tr>\n",
       "    <tr>\n",
       "      <th>29</th>\n",
       "      <td>0.007141</td>\n",
       "      <td>0.999473</td>\n",
       "      <td>0.066348</td>\n",
       "      <td>0.9816</td>\n",
       "    </tr>\n",
       "  </tbody>\n",
       "</table>\n",
       "</div>"
      ],
      "text/plain": [
       "        loss  accuracy  val_loss  val_accuracy\n",
       "0   0.457621  0.875709  0.241295        0.9328\n",
       "1   0.226838  0.934982  0.181395        0.9482\n",
       "2   0.171987  0.950927  0.144087        0.9602\n",
       "3   0.138696  0.959782  0.124873        0.9662\n",
       "4   0.115485  0.966818  0.106736        0.9716\n",
       "5   0.098294  0.971909  0.098959        0.9724\n",
       "6   0.085086  0.976073  0.092401        0.9740\n",
       "7   0.073759  0.979109  0.085438        0.9742\n",
       "8   0.065054  0.981691  0.080153        0.9768\n",
       "9   0.057624  0.983782  0.075794        0.9778\n",
       "10  0.051543  0.985800  0.073088        0.9792\n",
       "11  0.045822  0.987582  0.070123        0.9788\n",
       "12  0.041023  0.988982  0.075114        0.9766\n",
       "13  0.036523  0.990236  0.067895        0.9792\n",
       "14  0.032802  0.991618  0.068288        0.9790\n",
       "15  0.029292  0.992691  0.067323        0.9800\n",
       "16  0.026310  0.993673  0.066511        0.9804\n",
       "17  0.023452  0.994582  0.067722        0.9796\n",
       "18  0.021332  0.995200  0.066269        0.9800\n",
       "19  0.019130  0.996218  0.065674        0.9798\n",
       "20  0.017187  0.996655  0.066060        0.9788\n",
       "21  0.015355  0.997400  0.065164        0.9808\n",
       "22  0.013937  0.997655  0.064996        0.9806\n",
       "23  0.012537  0.998364  0.065103        0.9812\n",
       "24  0.011401  0.998564  0.065624        0.9802\n",
       "25  0.010463  0.998618  0.066788        0.9796\n",
       "26  0.009394  0.999055  0.066905        0.9812\n",
       "27  0.008605  0.999182  0.066018        0.9812\n",
       "28  0.007820  0.999364  0.066509        0.9814\n",
       "29  0.007141  0.999473  0.066348        0.9816"
      ]
     },
     "execution_count": 125,
     "metadata": {},
     "output_type": "execute_result"
    }
   ],
   "source": [
    "data"
   ]
  },
  {
   "cell_type": "code",
   "execution_count": 126,
   "id": "0355d4e7-3864-4976-8c53-f38ec1d888bf",
   "metadata": {},
   "outputs": [
    {
     "data": {
      "text/plain": [
       "<AxesSubplot: >"
      ]
     },
     "execution_count": 126,
     "metadata": {},
     "output_type": "execute_result"
    },
    {
     "data": {
      "image/png": "[encoded data removed]",
      "text/plain": [
       "<Figure size 640x480 with 1 Axes>"
      ]
     },
     "metadata": {},
     "output_type": "display_data"
    }
   ],
   "source": [
    "data.plot()"
   ]
  },
  {
   "cell_type": "code",
   "execution_count": 127,
   "id": "f33d3197-dbdd-43e5-b0d8-f87c63f9f19f",
   "metadata": {},
   "outputs": [
    {
     "name": "stdout",
     "output_type": "stream",
     "text": [
      "313/313 [==============================] - 1s 2ms/step - loss: 0.0640 - accuracy: 0.9809\n"
     ]
    },
    {
     "data": {
      "text/plain": [
       "[0.06401755660772324, 0.98089998960495]"
      ]
     },
     "execution_count": 127,
     "metadata": {},
     "output_type": "execute_result"
    }
   ],
   "source": [
    "model_clf.evaluate(X_test,y_test)"
   ]
  },
  {
   "cell_type": "markdown",
   "id": "76752afb-cfe5-45c7-ae83-9af1234040ff",
   "metadata": {},
   "source": [
    "### Now check teh result"
   ]
  },
  {
   "cell_type": "code",
   "execution_count": 128,
   "id": "0dd7cef4-d633-4999-ad45-065c70a18c97",
   "metadata": {},
   "outputs": [
    {
     "data": {
      "text/plain": [
       "array([[[0., 0., 0., ..., 0., 0., 0.],\n",
       "        [0., 0., 0., ..., 0., 0., 0.],\n",
       "        [0., 0., 0., ..., 0., 0., 0.],\n",
       "        ...,\n",
       "        [0., 0., 0., ..., 0., 0., 0.],\n",
       "        [0., 0., 0., ..., 0., 0., 0.],\n",
       "        [0., 0., 0., ..., 0., 0., 0.]],\n",
       "\n",
       "       [[0., 0., 0., ..., 0., 0., 0.],\n",
       "        [0., 0., 0., ..., 0., 0., 0.],\n",
       "        [0., 0., 0., ..., 0., 0., 0.],\n",
       "        ...,\n",
       "        [0., 0., 0., ..., 0., 0., 0.],\n",
       "        [0., 0., 0., ..., 0., 0., 0.],\n",
       "        [0., 0., 0., ..., 0., 0., 0.]],\n",
       "\n",
       "       [[0., 0., 0., ..., 0., 0., 0.],\n",
       "        [0., 0., 0., ..., 0., 0., 0.],\n",
       "        [0., 0., 0., ..., 0., 0., 0.],\n",
       "        ...,\n",
       "        [0., 0., 0., ..., 0., 0., 0.],\n",
       "        [0., 0., 0., ..., 0., 0., 0.],\n",
       "        [0., 0., 0., ..., 0., 0., 0.]]])"
      ]
     },
     "execution_count": 128,
     "metadata": {},
     "output_type": "execute_result"
    }
   ],
   "source": [
    "X_new = X_test[:3]\n",
    "X_new"
   ]
  },
  {
   "cell_type": "code",
   "execution_count": 129,
   "id": "18c63dd0-2b12-4de2-880f-00bb9fb5b64c",
   "metadata": {},
   "outputs": [
    {
     "data": {
      "text/plain": [
       "array([7, 2, 1], dtype=uint8)"
      ]
     },
     "execution_count": 129,
     "metadata": {},
     "output_type": "execute_result"
    }
   ],
   "source": [
    "actual = y_test[:3]\n",
    "actual"
   ]
  },
  {
   "cell_type": "code",
   "execution_count": 130,
   "id": "569f6ad9-78d4-403e-ab01-c57155541f81",
   "metadata": {},
   "outputs": [
    {
     "data": {
      "text/plain": [
       "<AxesSubplot: >"
      ]
     },
     "execution_count": 130,
     "metadata": {},
     "output_type": "execute_result"
    },
    {
     "data": {
      "image/png": "[encoded data removed]",
      "text/plain": [
       "<Figure size 800x800 with 2 Axes>"
      ]
     },
     "metadata": {},
     "output_type": "display_data"
    }
   ],
   "source": [
    "plt.figure(figsize=(8,8))\n",
    "sns.heatmap(X_test[2] , annot=True , cmap='binary')"
   ]
  },
  {
   "cell_type": "code",
   "execution_count": 131,
   "id": "9b54b868-8a17-4cfa-a011-29dcc46f7c02",
   "metadata": {},
   "outputs": [],
   "source": [
    "## predict data points"
   ]
  },
  {
   "cell_type": "code",
   "execution_count": 132,
   "id": "76d648b0-8c9a-47bf-b681-3de16fd940d9",
   "metadata": {},
   "outputs": [
    {
     "name": "stdout",
     "output_type": "stream",
     "text": [
      "1/1 [==============================] - 0s 68ms/step\n"
     ]
    },
    {
     "data": {
      "text/plain": [
       "array([[0., 0., 0., 0., 0., 0., 0., 1., 0., 0.],\n",
       "       [0., 0., 1., 0., 0., 0., 0., 0., 0., 0.],\n",
       "       [0., 1., 0., 0., 0., 0., 0., 0., 0., 0.]], dtype=float32)"
      ]
     },
     "execution_count": 132,
     "metadata": {},
     "output_type": "execute_result"
    }
   ],
   "source": [
    "y_prob = model_clf.predict(X_new)\n",
    "y_prob.round(2)"
   ]
  },
  {
   "cell_type": "code",
   "execution_count": 133,
   "id": "115a33c0-3c75-47cd-96b7-60e4674989ec",
   "metadata": {},
   "outputs": [
    {
     "data": {
      "text/plain": [
       "array([[1.76742196e-06, 1.69189306e-07, 3.51758245e-05, 1.32470668e-04,\n",
       "        3.06240561e-10, 2.76383894e-08, 6.43932824e-13, 9.99813378e-01,\n",
       "        2.63326774e-06, 1.44224250e-05],\n",
       "       [4.40956249e-08, 1.88897680e-08, 9.99999642e-01, 3.16561852e-07,\n",
       "        3.52419069e-15, 3.95833061e-10, 1.52069859e-08, 1.08222765e-14,\n",
       "        3.51292186e-08, 2.62932291e-14],\n",
       "       [7.72071303e-07, 9.99738038e-01, 4.10452885e-05, 1.68210727e-06,\n",
       "        3.77072138e-05, 8.91504101e-07, 4.04141565e-06, 8.76595223e-05,\n",
       "        8.77599814e-05, 3.98754764e-07]], dtype=float32)"
      ]
     },
     "execution_count": 133,
     "metadata": {},
     "output_type": "execute_result"
    }
   ],
   "source": [
    "y_prob"
   ]
  },
  {
   "cell_type": "code",
   "execution_count": 134,
   "id": "2f40f9c7-c945-4d38-a8ac-6608af8320de",
   "metadata": {},
   "outputs": [],
   "source": [
    "y_pred = np.argmax(y_prob, axis=-1)"
   ]
  },
  {
   "cell_type": "code",
   "execution_count": 135,
   "id": "38017d75-00f0-486e-8d7e-0805956b9b4a",
   "metadata": {},
   "outputs": [
    {
     "data": {
      "text/plain": [
       "array([7, 2, 1])"
      ]
     },
     "execution_count": 135,
     "metadata": {},
     "output_type": "execute_result"
    }
   ],
   "source": [
    "y_pred"
   ]
  },
  {
   "cell_type": "markdown",
   "id": "69c44e30-250a-4363-976f-4d4f14348fe6",
   "metadata": {},
   "source": [
    "prediction and actuals are exect same\n"
   ]
  },
  {
   "cell_type": "code",
   "execution_count": null,
   "id": "2b4ad53a-baee-4c53-aa25-8b5c71442a9f",
   "metadata": {},
   "outputs": [],
   "source": []
  },
  {
   "cell_type": "code",
   "execution_count": 136,
   "id": "67f9d22e-faa3-48f7-ac01-fdb718b1aff2",
   "metadata": {},
   "outputs": [
    {
     "data": {
      "image/png": "[encoded data removed]",
      "text/plain": [
       "<Figure size 640x480 with 1 Axes>"
      ]
     },
     "metadata": {},
     "output_type": "display_data"
    },
    {
     "name": "stdout",
     "output_type": "stream",
     "text": [
      "########################################\n"
     ]
    },
    {
     "data": {
      "image/png": "[encoded data removed]",
      "text/plain": [
       "<Figure size 640x480 with 1 Axes>"
      ]
     },
     "metadata": {},
     "output_type": "display_data"
    },
    {
     "name": "stdout",
     "output_type": "stream",
     "text": [
      "########################################\n"
     ]
    },
    {
     "data": {
      "image/png": "[encoded data removed]",
      "text/plain": [
       "<Figure size 640x480 with 1 Axes>"
      ]
     },
     "metadata": {},
     "output_type": "display_data"
    },
    {
     "name": "stdout",
     "output_type": "stream",
     "text": [
      "########################################\n"
     ]
    }
   ],
   "source": [
    "for data , pred , actual in zip(X_new,y_pred,actual):\n",
    "    plt.imshow(data , cmap='binary')\n",
    "    plt.title(f\"predicted {pred} and actual {actual}\")\n",
    "    plt.axis('off')\n",
    "    plt.show()\n",
    "    print('########################################')"
   ]
  },
  {
   "cell_type": "code",
   "execution_count": 137,
   "id": "445cf9b6-813e-482b-8ec8-2a300b40434f",
   "metadata": {},
   "outputs": [],
   "source": [
    "## Regularization technique"
   ]
  },
  {
   "cell_type": "code",
   "execution_count": 138,
   "id": "409dcfbf-a2f9-4196-a5d7-d7449b049ea6",
   "metadata": {},
   "outputs": [],
   "source": [
    "## method 2 dropout "
   ]
  },
  {
   "cell_type": "code",
   "execution_count": 139,
   "id": "eeb40293-d5c6-42b3-b54f-e1ff4e0f6a30",
   "metadata": {},
   "outputs": [],
   "source": [
    "from keras.models import Sequential\n",
    "from keras.layers import Dense , Flatten\n",
    "from keras.layers import Dropout\n",
    "from tensorflow.keras import regularizers"
   ]
  },
  {
   "cell_type": "code",
   "execution_count": 140,
   "id": "c3e3fe3b-935b-4d68-84e5-3a01432bf08b",
   "metadata": {},
   "outputs": [],
   "source": [
    "model = Sequential()\n",
    "model.add(Flatten(input_shape=[28,28] , name='inputlayer'))\n",
    "model.add(Dense(units=64 , activation='relu', kernel_regularizer=regularizers.L2(1e-4)))\n",
    "model.add(Dropout(0.2))\n",
    "model.add(Dense(units=32 , activation='relu' , kernel_regularizer=regularizers.L1L2(l1=1e-5, l2=1e-4)))\n",
    "model.add(Dropout(0.2))\n",
    "model.add(Dense(units=10 , activation='softmax'))"
   ]
  },
  {
   "cell_type": "code",
   "execution_count": 141,
   "id": "c2a6caf4-e5be-4a17-b358-7b7f4ba36bde",
   "metadata": {},
   "outputs": [
    {
     "name": "stdout",
     "output_type": "stream",
     "text": [
      "Model: \"sequential_8\"\n",
      "_________________________________________________________________\n",
      " Layer (type)                Output Shape              Param #   \n",
      "=================================================================\n",
      " inputlayer (Flatten)        (None, 784)               0         \n",
      "                                                                 \n",
      " dense_19 (Dense)            (None, 64)                50240     \n",
      "                                                                 \n",
      " dropout_14 (Dropout)        (None, 64)                0         \n",
      "                                                                 \n",
      " dense_20 (Dense)            (None, 32)                2080      \n",
      "                                                                 \n",
      " dropout_15 (Dropout)        (None, 32)                0         \n",
      "                                                                 \n",
      " dense_21 (Dense)            (None, 10)                330       \n",
      "                                                                 \n",
      "=================================================================\n",
      "Total params: 52650 (205.66 KB)\n",
      "Trainable params: 52650 (205.66 KB)\n",
      "Non-trainable params: 0 (0.00 Byte)\n",
      "_________________________________________________________________\n"
     ]
    }
   ],
   "source": [
    "model.summary()"
   ]
  },
  {
   "cell_type": "code",
   "execution_count": 142,
   "id": "1225d6de-5e2c-4535-90a8-96083961b2e6",
   "metadata": {},
   "outputs": [],
   "source": [
    "loss_function = tf.losses.sparse_categorical_crossentropy\n",
    "Optmizer = tf.keras.optimizers.SGD(0.02)\n",
    "model.compile(loss = loss_function , optimizer=Optmizer , metrics='accuracy')"
   ]
  },
  {
   "cell_type": "code",
   "execution_count": 143,
   "id": "58e7d3e4-5a28-4aba-835f-6a0927244434",
   "metadata": {},
   "outputs": [],
   "source": [
    "## training"
   ]
  },
  {
   "cell_type": "code",
   "execution_count": 144,
   "id": "7e739ef9-12e5-405d-a7ae-330f9dffa010",
   "metadata": {},
   "outputs": [
    {
     "name": "stdout",
     "output_type": "stream",
     "text": [
      "Epoch 1/5\n",
      "1719/1719 [==============================] - 5s 2ms/step - loss: 0.8360 - accuracy: 0.7458 - val_loss: 0.3229 - val_accuracy: 0.9174\n",
      "Epoch 2/5\n",
      "1719/1719 [==============================] - 4s 2ms/step - loss: 0.4346 - accuracy: 0.8777 - val_loss: 0.2481 - val_accuracy: 0.9382\n",
      "Epoch 3/5\n",
      "1719/1719 [==============================] - 4s 2ms/step - loss: 0.3634 - accuracy: 0.9005 - val_loss: 0.2087 - val_accuracy: 0.9476\n",
      "Epoch 4/5\n",
      "1719/1719 [==============================] - 4s 2ms/step - loss: 0.3180 - accuracy: 0.9139 - val_loss: 0.1849 - val_accuracy: 0.9550\n",
      "Epoch 5/5\n",
      "1719/1719 [==============================] - 4s 2ms/step - loss: 0.2890 - accuracy: 0.9227 - val_loss: 0.1717 - val_accuracy: 0.9578\n"
     ]
    }
   ],
   "source": [
    "Validation = (X_valid,y_valid)\n",
    "history = model.fit(X_train,y_train,epochs=5 , validation_data=Validation , batch_size=32)"
   ]
  },
  {
   "cell_type": "code",
   "execution_count": 169,
   "id": "4f8e8a28-955b-422b-9b81-24285ce4bbea",
   "metadata": {},
   "outputs": [],
   "source": [
    "## weight initialisation\n",
    "\n",
    "from keras.models import Sequential\n",
    "from keras.layers import Dense , Flatten\n",
    "from keras.layers import Dropout\n",
    "from tensorflow.keras import regularizers\n",
    "\n",
    "Model = Sequential()\n",
    "Model.add(Flatten(input_shape=[28,28] , name='inputlayer'))\n",
    "Model.add(Dense(units=64 , activation='relu', kernel_regularizer=tf.keras.initializers.GlorotNormal(seed=None)))\n",
    "Model.add(Dropout(0.2))\n",
    "Model.add(Dense(units=32 , activation='relu' , kernel_regularizer=tf.keras.initializers.GlorotNormal(seed=None)))\n",
    "Model.add(Dropout(0.1))\n",
    "Model.add(Dense(units=16 , activation='relu' , kernel_regularizer=tf.keras.initializers.GlorotNormal(seed=None)))\n",
    "Model.add(Dropout(0.2))\n",
    "Model.add(Dense(units=8 , activation='softmax'))"
   ]
  },
  {
   "cell_type": "code",
   "execution_count": 170,
   "id": "618358aa-ca46-4a7f-bb64-b7d8bde34fa6",
   "metadata": {},
   "outputs": [
    {
     "name": "stdout",
     "output_type": "stream",
     "text": [
      "Model: \"sequential_13\"\n",
      "_________________________________________________________________\n",
      " Layer (type)                Output Shape              Param #   \n",
      "=================================================================\n",
      " inputlayer (Flatten)        (None, 784)               0         \n",
      "                                                                 \n",
      " dense_36 (Dense)            (None, 64)                50240     \n",
      "                                                                 \n",
      " dropout_28 (Dropout)        (None, 64)                0         \n",
      "                                                                 \n",
      " dense_37 (Dense)            (None, 32)                2080      \n",
      "                                                                 \n",
      " dropout_29 (Dropout)        (None, 32)                0         \n",
      "                                                                 \n",
      " dense_38 (Dense)            (None, 16)                528       \n",
      "                                                                 \n",
      " dropout_30 (Dropout)        (None, 16)                0         \n",
      "                                                                 \n",
      " dense_39 (Dense)            (None, 8)                 136       \n",
      "                                                                 \n",
      "=================================================================\n",
      "Total params: 52984 (206.97 KB)\n",
      "Trainable params: 52984 (206.97 KB)\n",
      "Non-trainable params: 0 (0.00 Byte)\n",
      "_________________________________________________________________\n"
     ]
    }
   ],
   "source": [
    "Model.summary()"
   ]
  },
  {
   "cell_type": "code",
   "execution_count": null,
   "id": "6a9a1793-2f9b-4215-be62-4af577e836c6",
   "metadata": {},
   "outputs": [],
   "source": []
  },
  {
   "cell_type": "code",
   "execution_count": 171,
   "id": "07124d49-b2f8-4dfc-8168-a1de4874d6dc",
   "metadata": {},
   "outputs": [],
   "source": [
    "loss_function = tf.losses.sparse_categorical_crossentropy\n",
    "Optmizer = tf.keras.optimizers.SGD(0.02)\n",
    "\n",
    "Model.compile(loss= loss_function , optimizer=Optmizer , metrics='accuracy')"
   ]
  },
  {
   "cell_type": "code",
   "execution_count": 172,
   "id": "db8f651e-8ae2-40bd-ba80-d3f571fe0df9",
   "metadata": {},
   "outputs": [
    {
     "name": "stdout",
     "output_type": "stream",
     "text": [
      "Epoch 1/5\n"
     ]
    },
    {
     "ename": "TypeError",
     "evalue": "in user code:\n\n    File \"/opt/conda/lib/python3.10/site-packages/keras/src/engine/training.py\", line 1377, in train_function  *\n        return step_function(self, iterator)\n    File \"/opt/conda/lib/python3.10/site-packages/keras/src/engine/training.py\", line 1360, in step_function  **\n        outputs = model.distribute_strategy.run(run_step, args=(data,))\n    File \"/opt/conda/lib/python3.10/site-packages/keras/src/engine/training.py\", line 1349, in run_step  **\n        outputs = model.train_step(data)\n    File \"/opt/conda/lib/python3.10/site-packages/keras/src/engine/training.py\", line 1127, in train_step\n        loss = self.compute_loss(x, y, y_pred, sample_weight)\n    File \"/opt/conda/lib/python3.10/site-packages/keras/src/engine/training.py\", line 1186, in compute_loss\n        y, y_pred, sample_weight, regularization_losses=self.losses\n    File \"/opt/conda/lib/python3.10/site-packages/keras/src/engine/base_layer.py\", line 1428, in losses\n        loss_tensor = regularizer()\n    File \"/opt/conda/lib/python3.10/site-packages/keras/src/engine/base_layer.py\", line 1509, in _tag_callable\n        loss = loss()\n    File \"/opt/conda/lib/python3.10/site-packages/keras/src/engine/base_layer.py\", line 2836, in _loss_for_variable\n        regularization = regularizer(v)\n    File \"/opt/conda/lib/python3.10/site-packages/keras/src/initializers/initializers.py\", line 647, in __call__\n        return self._generate_init_val(shape=shape, dtype=dtype, nonce=nonce)\n    File \"/opt/conda/lib/python3.10/site-packages/keras/src/initializers/initializers.py\", line 651, in _generate_init_val\n        fan_in, fan_out = _compute_fans(shape)\n    File \"/opt/conda/lib/python3.10/site-packages/keras/src/initializers/initializers.py\", line 1145, in _compute_fans\n        if len(shape) < 1:  # Just to avoid errors for constants.\n\n    TypeError: object of type 'ResourceVariable' has no len()\n",
     "output_type": "error",
     "traceback": [
      "\u001b[0;31m---------------------------------------------------------------------------\u001b[0m",
      "\u001b[0;31mTypeError\u001b[0m                                 Traceback (most recent call last)",
      "Cell \u001b[0;32mIn[172], line 2\u001b[0m\n\u001b[1;32m      1\u001b[0m Validation \u001b[38;5;241m=\u001b[39m (X_valid,y_valid)\n\u001b[0;32m----> 2\u001b[0m history \u001b[38;5;241m=\u001b[39m \u001b[43mModel\u001b[49m\u001b[38;5;241;43m.\u001b[39;49m\u001b[43mfit\u001b[49m\u001b[43m(\u001b[49m\u001b[43mX_train_full\u001b[49m\u001b[43m,\u001b[49m\u001b[43m \u001b[49m\u001b[43my_train_full\u001b[49m\u001b[43m,\u001b[49m\u001b[43m \u001b[49m\u001b[43mepochs\u001b[49m\u001b[38;5;241;43m=\u001b[39;49m\u001b[38;5;241;43m5\u001b[39;49m\u001b[43m \u001b[49m\u001b[43m,\u001b[49m\u001b[43m \u001b[49m\u001b[43mvalidation_data\u001b[49m\u001b[38;5;241;43m=\u001b[39;49m\u001b[43mValidation\u001b[49m\u001b[43m \u001b[49m\u001b[43m,\u001b[49m\u001b[43m \u001b[49m\u001b[43mbatch_size\u001b[49m\u001b[38;5;241;43m=\u001b[39;49m\u001b[38;5;241;43m32\u001b[39;49m\u001b[43m)\u001b[49m\n",
      "File \u001b[0;32m/opt/conda/lib/python3.10/site-packages/keras/src/utils/traceback_utils.py:70\u001b[0m, in \u001b[0;36mfilter_traceback.<locals>.error_handler\u001b[0;34m(*args, **kwargs)\u001b[0m\n\u001b[1;32m     67\u001b[0m     filtered_tb \u001b[38;5;241m=\u001b[39m _process_traceback_frames(e\u001b[38;5;241m.\u001b[39m__traceback__)\n\u001b[1;32m     68\u001b[0m     \u001b[38;5;66;03m# To get the full stack trace, call:\u001b[39;00m\n\u001b[1;32m     69\u001b[0m     \u001b[38;5;66;03m# `tf.debugging.disable_traceback_filtering()`\u001b[39;00m\n\u001b[0;32m---> 70\u001b[0m     \u001b[38;5;28;01mraise\u001b[39;00m e\u001b[38;5;241m.\u001b[39mwith_traceback(filtered_tb) \u001b[38;5;28;01mfrom\u001b[39;00m \u001b[38;5;28mNone\u001b[39m\n\u001b[1;32m     71\u001b[0m \u001b[38;5;28;01mfinally\u001b[39;00m:\n\u001b[1;32m     72\u001b[0m     \u001b[38;5;28;01mdel\u001b[39;00m filtered_tb\n",
      "File \u001b[0;32m/tmp/__autograph_generated_file977_e9h9.py:15\u001b[0m, in \u001b[0;36mouter_factory.<locals>.inner_factory.<locals>.tf__train_function\u001b[0;34m(iterator)\u001b[0m\n\u001b[1;32m     13\u001b[0m \u001b[38;5;28;01mtry\u001b[39;00m:\n\u001b[1;32m     14\u001b[0m     do_return \u001b[38;5;241m=\u001b[39m \u001b[38;5;28;01mTrue\u001b[39;00m\n\u001b[0;32m---> 15\u001b[0m     retval_ \u001b[38;5;241m=\u001b[39m ag__\u001b[38;5;241m.\u001b[39mconverted_call(ag__\u001b[38;5;241m.\u001b[39mld(step_function), (ag__\u001b[38;5;241m.\u001b[39mld(\u001b[38;5;28mself\u001b[39m), ag__\u001b[38;5;241m.\u001b[39mld(iterator)), \u001b[38;5;28;01mNone\u001b[39;00m, fscope)\n\u001b[1;32m     16\u001b[0m \u001b[38;5;28;01mexcept\u001b[39;00m:\n\u001b[1;32m     17\u001b[0m     do_return \u001b[38;5;241m=\u001b[39m \u001b[38;5;28;01mFalse\u001b[39;00m\n",
      "\u001b[0;31mTypeError\u001b[0m: in user code:\n\n    File \"/opt/conda/lib/python3.10/site-packages/keras/src/engine/training.py\", line 1377, in train_function  *\n        return step_function(self, iterator)\n    File \"/opt/conda/lib/python3.10/site-packages/keras/src/engine/training.py\", line 1360, in step_function  **\n        outputs = model.distribute_strategy.run(run_step, args=(data,))\n    File \"/opt/conda/lib/python3.10/site-packages/keras/src/engine/training.py\", line 1349, in run_step  **\n        outputs = model.train_step(data)\n    File \"/opt/conda/lib/python3.10/site-packages/keras/src/engine/training.py\", line 1127, in train_step\n        loss = self.compute_loss(x, y, y_pred, sample_weight)\n    File \"/opt/conda/lib/python3.10/site-packages/keras/src/engine/training.py\", line 1186, in compute_loss\n        y, y_pred, sample_weight, regularization_losses=self.losses\n    File \"/opt/conda/lib/python3.10/site-packages/keras/src/engine/base_layer.py\", line 1428, in losses\n        loss_tensor = regularizer()\n    File \"/opt/conda/lib/python3.10/site-packages/keras/src/engine/base_layer.py\", line 1509, in _tag_callable\n        loss = loss()\n    File \"/opt/conda/lib/python3.10/site-packages/keras/src/engine/base_layer.py\", line 2836, in _loss_for_variable\n        regularization = regularizer(v)\n    File \"/opt/conda/lib/python3.10/site-packages/keras/src/initializers/initializers.py\", line 647, in __call__\n        return self._generate_init_val(shape=shape, dtype=dtype, nonce=nonce)\n    File \"/opt/conda/lib/python3.10/site-packages/keras/src/initializers/initializers.py\", line 651, in _generate_init_val\n        fan_in, fan_out = _compute_fans(shape)\n    File \"/opt/conda/lib/python3.10/site-packages/keras/src/initializers/initializers.py\", line 1145, in _compute_fans\n        if len(shape) < 1:  # Just to avoid errors for constants.\n\n    TypeError: object of type 'ResourceVariable' has no len()\n"
     ]
    }
   ],
   "source": [
    "Validation = (X_valid,y_valid)\n",
    "history = Model.fit(X_train_full, y_train_full, epochs=5 , validation_data=Validation , batch_size=32)"
   ]
  },
  {
   "cell_type": "code",
   "execution_count": 168,
   "id": "ed08b58e-2c44-42bd-8926-6ac285b5c832",
   "metadata": {},
   "outputs": [],
   "source": [
    "data = pd.DataFrame(history.history)"
   ]
  },
  {
   "cell_type": "code",
   "execution_count": null,
   "id": "99189eb4-7a65-4dca-9011-93877e9f6885",
   "metadata": {},
   "outputs": [],
   "source": [
    "data.plot()"
   ]
  },
  {
   "cell_type": "code",
   "execution_count": null,
   "id": "15bc4507-9444-40fc-bfd2-b62b56e2e933",
   "metadata": {},
   "outputs": [],
   "source": [
    "##Optimiers\n",
    "\n",
    "model = Sequential()\n",
    "model.add(Flatten(input_shape=[28,28] , name='inputlayer'))\n",
    "model.add(Dense(units=64 , activation='relu', kernel_regularizer=tf.keras.initializers.HeNormal(seed=None)))\n",
    "model.add(Dropout(0.2))\n",
    "model.add(Dense(units=32 , activation='relu' , kernel_regularizer=tf.keras.initializers.HeNormal(seed=None)))\n",
    "model.add(Dropout(0.1))\n",
    "model.add(Dense(units=16 , activation='relu' , kernel_regularizer=tf.keras.initializers.HeNormal(seed=None)))\n",
    "model.add(Dropout(0.2))\n",
    "model.add(Dense(units=10 , activation='softmax'))"
   ]
  },
  {
   "cell_type": "code",
   "execution_count": null,
   "id": "bc7ad5eb-7043-4835-81c5-5fcc866ef49d",
   "metadata": {},
   "outputs": [],
   "source": [
    "model.summary()"
   ]
  },
  {
   "cell_type": "code",
   "execution_count": null,
   "id": "f6ec976c-2ba6-4c9c-a9b8-ce2042c168bb",
   "metadata": {},
   "outputs": [],
   "source": [
    "adam = tf.keras.optimizers.Adam(learning_rate=0.01 , beta_1=0.95)\n",
    "\n",
    "\n",
    "model.compile(loss= 'sparse_categorical_crossentrophy' , optimizer=adam, metrics='accuracy')"
   ]
  },
  {
   "cell_type": "code",
   "execution_count": null,
   "id": "1aa99642-ec1f-434c-9f3b-cdd36cd168b9",
   "metadata": {},
   "outputs": [],
   "source": [
    "validation = (X_valid,y_valid)\n",
    "history = model.fit(X_train,y_train, epochs=5 , validation_data=validation , batch_size=32)"
   ]
  },
  {
   "cell_type": "code",
   "execution_count": null,
   "id": "9cf2fc99-2a27-45d3-b46e-c693f872581c",
   "metadata": {},
   "outputs": [],
   "source": []
  },
  {
   "cell_type": "code",
   "execution_count": null,
   "id": "c8020d35-7ca1-46fa-8466-3718b7fc06a3",
   "metadata": {},
   "outputs": [],
   "source": []
  },
  {
   "cell_type": "code",
   "execution_count": 153,
   "id": "d6d78348-b951-468c-8bbe-41c02080b874",
   "metadata": {},
   "outputs": [],
   "source": [
    "from keras.models import Sequential\n",
    "from keras.layers import Dense, Dropout\n",
    "import tensorflow as tf  # Importing TensorFlow for the kernel_regularizer\n",
    "\n",
    "Model = Sequential()\n",
    "Model.add(Dropout(0.2))\n",
    "Model.add(Dense(units=32, activation='relu', kernel_regularizer=tf.keras.initializers.GlorotNormal(seed=None)))\n",
    "Model.add(Dropout(0.1))\n",
    "Model.add(Dense(units=16, activation='relu', kernel_regularizer=tf.keras.initializers.GlorotNormal(seed=None)))\n",
    "Model.add(Dropout(0.2))\n",
    "Model.add(Dense(units=10, activation='softmax'))"
   ]
  },
  {
   "cell_type": "code",
   "execution_count": 154,
   "id": "f76b0dc7-00bb-47b2-b9c4-e35d35261c4c",
   "metadata": {},
   "outputs": [
    {
     "name": "stdout",
     "output_type": "stream",
     "text": [
      "Epoch 1/5\n"
     ]
    },
    {
     "ename": "TypeError",
     "evalue": "in user code:\n\n    File \"/opt/conda/lib/python3.10/site-packages/keras/src/engine/training.py\", line 1377, in train_function  *\n        return step_function(self, iterator)\n    File \"/opt/conda/lib/python3.10/site-packages/keras/src/engine/training.py\", line 1360, in step_function  **\n        outputs = model.distribute_strategy.run(run_step, args=(data,))\n    File \"/opt/conda/lib/python3.10/site-packages/keras/src/engine/training.py\", line 1349, in run_step  **\n        outputs = model.train_step(data)\n    File \"/opt/conda/lib/python3.10/site-packages/keras/src/engine/training.py\", line 1127, in train_step\n        loss = self.compute_loss(x, y, y_pred, sample_weight)\n    File \"/opt/conda/lib/python3.10/site-packages/keras/src/engine/training.py\", line 1186, in compute_loss\n        y, y_pred, sample_weight, regularization_losses=self.losses\n    File \"/opt/conda/lib/python3.10/site-packages/keras/src/engine/base_layer.py\", line 1428, in losses\n        loss_tensor = regularizer()\n    File \"/opt/conda/lib/python3.10/site-packages/keras/src/engine/base_layer.py\", line 1509, in _tag_callable\n        loss = loss()\n    File \"/opt/conda/lib/python3.10/site-packages/keras/src/engine/base_layer.py\", line 2836, in _loss_for_variable\n        regularization = regularizer(v)\n    File \"/opt/conda/lib/python3.10/site-packages/keras/src/initializers/initializers.py\", line 647, in __call__\n        return self._generate_init_val(shape=shape, dtype=dtype, nonce=nonce)\n    File \"/opt/conda/lib/python3.10/site-packages/keras/src/initializers/initializers.py\", line 651, in _generate_init_val\n        fan_in, fan_out = _compute_fans(shape)\n    File \"/opt/conda/lib/python3.10/site-packages/keras/src/initializers/initializers.py\", line 1145, in _compute_fans\n        if len(shape) < 1:  # Just to avoid errors for constants.\n\n    TypeError: object of type 'UnliftedInitializerVariable' has no len()\n",
     "output_type": "error",
     "traceback": [
      "\u001b[0;31m---------------------------------------------------------------------------\u001b[0m",
      "\u001b[0;31mTypeError\u001b[0m                                 Traceback (most recent call last)",
      "Cell \u001b[0;32mIn[154], line 5\u001b[0m\n\u001b[1;32m      3\u001b[0m Model\u001b[38;5;241m.\u001b[39mcompile(loss\u001b[38;5;241m=\u001b[39mloss_function, optimizer\u001b[38;5;241m=\u001b[39moptimizer, metrics\u001b[38;5;241m=\u001b[39m[\u001b[38;5;124m'\u001b[39m\u001b[38;5;124maccuracy\u001b[39m\u001b[38;5;124m'\u001b[39m])\n\u001b[1;32m      4\u001b[0m validation_data \u001b[38;5;241m=\u001b[39m (X_valid, y_valid)\n\u001b[0;32m----> 5\u001b[0m history \u001b[38;5;241m=\u001b[39m \u001b[43mModel\u001b[49m\u001b[38;5;241;43m.\u001b[39;49m\u001b[43mfit\u001b[49m\u001b[43m(\u001b[49m\u001b[43mX_train\u001b[49m\u001b[43m,\u001b[49m\u001b[43m \u001b[49m\u001b[43my_train\u001b[49m\u001b[43m,\u001b[49m\u001b[43m \u001b[49m\u001b[43mepochs\u001b[49m\u001b[38;5;241;43m=\u001b[39;49m\u001b[38;5;241;43m5\u001b[39;49m\u001b[43m,\u001b[49m\u001b[43m \u001b[49m\u001b[43mvalidation_data\u001b[49m\u001b[38;5;241;43m=\u001b[39;49m\u001b[43mvalidation_data\u001b[49m\u001b[43m,\u001b[49m\u001b[43m \u001b[49m\u001b[43mbatch_size\u001b[49m\u001b[38;5;241;43m=\u001b[39;49m\u001b[38;5;241;43m42\u001b[39;49m\u001b[43m)\u001b[49m\n",
      "File \u001b[0;32m/opt/conda/lib/python3.10/site-packages/keras/src/utils/traceback_utils.py:70\u001b[0m, in \u001b[0;36mfilter_traceback.<locals>.error_handler\u001b[0;34m(*args, **kwargs)\u001b[0m\n\u001b[1;32m     67\u001b[0m     filtered_tb \u001b[38;5;241m=\u001b[39m _process_traceback_frames(e\u001b[38;5;241m.\u001b[39m__traceback__)\n\u001b[1;32m     68\u001b[0m     \u001b[38;5;66;03m# To get the full stack trace, call:\u001b[39;00m\n\u001b[1;32m     69\u001b[0m     \u001b[38;5;66;03m# `tf.debugging.disable_traceback_filtering()`\u001b[39;00m\n\u001b[0;32m---> 70\u001b[0m     \u001b[38;5;28;01mraise\u001b[39;00m e\u001b[38;5;241m.\u001b[39mwith_traceback(filtered_tb) \u001b[38;5;28;01mfrom\u001b[39;00m \u001b[38;5;28mNone\u001b[39m\n\u001b[1;32m     71\u001b[0m \u001b[38;5;28;01mfinally\u001b[39;00m:\n\u001b[1;32m     72\u001b[0m     \u001b[38;5;28;01mdel\u001b[39;00m filtered_tb\n",
      "File \u001b[0;32m/tmp/__autograph_generated_file977_e9h9.py:15\u001b[0m, in \u001b[0;36mouter_factory.<locals>.inner_factory.<locals>.tf__train_function\u001b[0;34m(iterator)\u001b[0m\n\u001b[1;32m     13\u001b[0m \u001b[38;5;28;01mtry\u001b[39;00m:\n\u001b[1;32m     14\u001b[0m     do_return \u001b[38;5;241m=\u001b[39m \u001b[38;5;28;01mTrue\u001b[39;00m\n\u001b[0;32m---> 15\u001b[0m     retval_ \u001b[38;5;241m=\u001b[39m ag__\u001b[38;5;241m.\u001b[39mconverted_call(ag__\u001b[38;5;241m.\u001b[39mld(step_function), (ag__\u001b[38;5;241m.\u001b[39mld(\u001b[38;5;28mself\u001b[39m), ag__\u001b[38;5;241m.\u001b[39mld(iterator)), \u001b[38;5;28;01mNone\u001b[39;00m, fscope)\n\u001b[1;32m     16\u001b[0m \u001b[38;5;28;01mexcept\u001b[39;00m:\n\u001b[1;32m     17\u001b[0m     do_return \u001b[38;5;241m=\u001b[39m \u001b[38;5;28;01mFalse\u001b[39;00m\n",
      "\u001b[0;31mTypeError\u001b[0m: in user code:\n\n    File \"/opt/conda/lib/python3.10/site-packages/keras/src/engine/training.py\", line 1377, in train_function  *\n        return step_function(self, iterator)\n    File \"/opt/conda/lib/python3.10/site-packages/keras/src/engine/training.py\", line 1360, in step_function  **\n        outputs = model.distribute_strategy.run(run_step, args=(data,))\n    File \"/opt/conda/lib/python3.10/site-packages/keras/src/engine/training.py\", line 1349, in run_step  **\n        outputs = model.train_step(data)\n    File \"/opt/conda/lib/python3.10/site-packages/keras/src/engine/training.py\", line 1127, in train_step\n        loss = self.compute_loss(x, y, y_pred, sample_weight)\n    File \"/opt/conda/lib/python3.10/site-packages/keras/src/engine/training.py\", line 1186, in compute_loss\n        y, y_pred, sample_weight, regularization_losses=self.losses\n    File \"/opt/conda/lib/python3.10/site-packages/keras/src/engine/base_layer.py\", line 1428, in losses\n        loss_tensor = regularizer()\n    File \"/opt/conda/lib/python3.10/site-packages/keras/src/engine/base_layer.py\", line 1509, in _tag_callable\n        loss = loss()\n    File \"/opt/conda/lib/python3.10/site-packages/keras/src/engine/base_layer.py\", line 2836, in _loss_for_variable\n        regularization = regularizer(v)\n    File \"/opt/conda/lib/python3.10/site-packages/keras/src/initializers/initializers.py\", line 647, in __call__\n        return self._generate_init_val(shape=shape, dtype=dtype, nonce=nonce)\n    File \"/opt/conda/lib/python3.10/site-packages/keras/src/initializers/initializers.py\", line 651, in _generate_init_val\n        fan_in, fan_out = _compute_fans(shape)\n    File \"/opt/conda/lib/python3.10/site-packages/keras/src/initializers/initializers.py\", line 1145, in _compute_fans\n        if len(shape) < 1:  # Just to avoid errors for constants.\n\n    TypeError: object of type 'UnliftedInitializerVariable' has no len()\n"
     ]
    }
   ],
   "source": [
    "loss_function = tf.losses.sparse_categorical_crossentropy\n",
    "optimizer = tf.keras.optimizers.SGD(learning_rate=0.02)\n",
    "Model.compile(loss=loss_function, optimizer=optimizer, metrics=['accuracy'])\n",
    "validation_data = (X_valid, y_valid)\n",
    "history = Model.fit(X_train, y_train, epochs=5, validation_data=validation_data, batch_size=42)"
   ]
  },
  {
   "cell_type": "code",
   "execution_count": null,
   "id": "ebbdae37-bde3-4f5b-8fc7-5ce5e2b3a691",
   "metadata": {},
   "outputs": [],
   "source": []
  }
 ],
 "metadata": {
  "kernelspec": {
   "display_name": "Python 3 (ipykernel)",
   "language": "python",
   "name": "python3"
  },
  "language_info": {
   "codemirror_mode": {
    "name": "ipython",
    "version": 3
   },
   "file_extension": ".py",
   "mimetype": "text/x-python",
   "name": "python",
   "nbconvert_exporter": "python",
   "pygments_lexer": "ipython3",
   "version": "3.10.8"
  }
 },
 "nbformat": 4,
 "nbformat_minor": 5
}
